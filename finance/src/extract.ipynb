{
 "cells": [
  {
   "cell_type": "code",
   "execution_count": 13,
   "metadata": {},
   "outputs": [
    {
     "data": {
      "text/plain": [
       "Index(['Tax Effect Of Unusual Items', 'Tax Rate For Calcs',\n",
       "       'Normalized EBITDA',\n",
       "       'Net Income From Continuing Operation Net Minority Interest',\n",
       "       'Reconciled Depreciation', 'Reconciled Cost Of Revenue', 'EBIT',\n",
       "       'Net Interest Income', 'Interest Expense', 'Interest Income',\n",
       "       'Normalized Income',\n",
       "       'Net Income From Continuing And Discontinued Operation',\n",
       "       'Total Expenses', 'Total Operating Income As Reported',\n",
       "       'Diluted Average Shares', 'Basic Average Shares', 'Diluted EPS',\n",
       "       'Basic EPS', 'Diluted NI Availto Com Stockholders',\n",
       "       'Net Income Common Stockholders', 'Net Income',\n",
       "       'Net Income Including Noncontrolling Interests',\n",
       "       'Net Income Continuous Operations', 'Tax Provision', 'Pretax Income',\n",
       "       'Other Income Expense', 'Other Non Operating Income Expenses',\n",
       "       'Net Non Operating Interest Income Expense',\n",
       "       'Interest Expense Non Operating', 'Interest Income Non Operating',\n",
       "       'Operating Income', 'Operating Expense', 'Research And Development',\n",
       "       'Selling General And Administration', 'Gross Profit', 'Cost Of Revenue',\n",
       "       'Total Revenue', 'Operating Revenue'],\n",
       "      dtype='object')"
      ]
     },
     "execution_count": 13,
     "metadata": {},
     "output_type": "execute_result"
    }
   ],
   "source": [
    "import yfinance as yf\n",
    "\n",
    "ticker_symbol = 'AAPL'\n",
    "ticker = yf.Ticker(ticker_symbol)\n",
    "\n",
    "# get income statement \n",
    "income_statement = ticker.financials\n",
    "income_statement.index\n"
   ]
  },
  {
   "cell_type": "code",
   "execution_count": 14,
   "metadata": {},
   "outputs": [
    {
     "data": {
      "text/plain": [
       "2999305895936"
      ]
     },
     "execution_count": 14,
     "metadata": {},
     "output_type": "execute_result"
    }
   ],
   "source": [
    "ticker.info['marketCap']"
   ]
  },
  {
   "cell_type": "code",
   "execution_count": 15,
   "metadata": {},
   "outputs": [
    {
     "data": {
      "text/plain": [
       "'USD'"
      ]
     },
     "execution_count": 15,
     "metadata": {},
     "output_type": "execute_result"
    }
   ],
   "source": [
    "ticker.info['currency']"
   ]
  },
  {
   "cell_type": "code",
   "execution_count": 16,
   "metadata": {},
   "outputs": [
    {
     "data": {
      "text/plain": [
       "394328000000.0"
      ]
     },
     "execution_count": 16,
     "metadata": {},
     "output_type": "execute_result"
    }
   ],
   "source": [
    "income_statement.loc['Total Revenue'].values[0]"
   ]
  },
  {
   "cell_type": "code",
   "execution_count": 17,
   "metadata": {},
   "outputs": [
    {
     "data": {
      "text/plain": [
       "111443000000.0"
      ]
     },
     "execution_count": 17,
     "metadata": {},
     "output_type": "execute_result"
    }
   ],
   "source": [
    "ticker.cashflow.loc[\"Free Cash Flow\"].values[0]"
   ]
  },
  {
   "cell_type": "code",
   "execution_count": 18,
   "metadata": {},
   "outputs": [
    {
     "data": {
      "text/plain": [
       "352755000000.0"
      ]
     },
     "execution_count": 18,
     "metadata": {},
     "output_type": "execute_result"
    }
   ],
   "source": [
    "ticker.balance_sheet.loc['Total Assets'].values[0]"
   ]
  },
  {
   "cell_type": "code",
   "execution_count": 19,
   "metadata": {},
   "outputs": [
    {
     "data": {
      "text/plain": [
       "Index(['Ordinary Shares Number', 'Share Issued', 'Net Debt', 'Total Debt',\n",
       "       'Tangible Book Value', 'Invested Capital', 'Working Capital',\n",
       "       'Net Tangible Assets', 'Common Stock Equity', 'Total Capitalization',\n",
       "       'Total Equity Gross Minority Interest', 'Stockholders Equity',\n",
       "       'Gains Losses Not Affecting Retained Earnings', 'Retained Earnings',\n",
       "       'Capital Stock', 'Common Stock',\n",
       "       'Total Liabilities Net Minority Interest',\n",
       "       'Total Non Current Liabilities Net Minority Interest',\n",
       "       'Other Non Current Liabilities', 'Tradeand Other Payables Non Current',\n",
       "       'Long Term Debt And Capital Lease Obligation', 'Long Term Debt',\n",
       "       'Current Liabilities', 'Other Current Liabilities',\n",
       "       'Current Deferred Liabilities', 'Current Deferred Revenue',\n",
       "       'Current Debt And Capital Lease Obligation', 'Current Debt',\n",
       "       'Other Current Borrowings', 'Commercial Paper',\n",
       "       'Payables And Accrued Expenses', 'Payables', 'Accounts Payable',\n",
       "       'Total Assets', 'Total Non Current Assets', 'Other Non Current Assets',\n",
       "       'Investments And Advances', 'Other Investments',\n",
       "       'Investmentin Financial Assets', 'Available For Sale Securities',\n",
       "       'Net PPE', 'Accumulated Depreciation', 'Gross PPE', 'Leases',\n",
       "       'Machinery Furniture Equipment', 'Land And Improvements', 'Properties',\n",
       "       'Current Assets', 'Other Current Assets', 'Inventory', 'Receivables',\n",
       "       'Other Receivables', 'Accounts Receivable',\n",
       "       'Cash Cash Equivalents And Short Term Investments',\n",
       "       'Other Short Term Investments', 'Cash And Cash Equivalents',\n",
       "       'Cash Equivalents', 'Cash Financial'],\n",
       "      dtype='object')"
      ]
     },
     "execution_count": 19,
     "metadata": {},
     "output_type": "execute_result"
    }
   ],
   "source": [
    "ticker.balance_sheet.index"
   ]
  },
  {
   "cell_type": "code",
   "execution_count": 20,
   "metadata": {},
   "outputs": [
    {
     "data": {
      "text/html": [
       "<div>\n",
       "<style scoped>\n",
       "    .dataframe tbody tr th:only-of-type {\n",
       "        vertical-align: middle;\n",
       "    }\n",
       "\n",
       "    .dataframe tbody tr th {\n",
       "        vertical-align: top;\n",
       "    }\n",
       "\n",
       "    .dataframe thead th {\n",
       "        text-align: right;\n",
       "    }\n",
       "</style>\n",
       "<table border=\"1\" class=\"dataframe\">\n",
       "  <thead>\n",
       "    <tr style=\"text-align: right;\">\n",
       "      <th></th>\n",
       "      <th>Tax Effect Of Unusual Items</th>\n",
       "      <th>Tax Rate For Calcs</th>\n",
       "      <th>Normalized EBITDA</th>\n",
       "      <th>Net Income From Continuing Operation Net Minority Interest</th>\n",
       "      <th>Reconciled Depreciation</th>\n",
       "      <th>Reconciled Cost Of Revenue</th>\n",
       "      <th>EBIT</th>\n",
       "      <th>Net Interest Income</th>\n",
       "      <th>Interest Expense</th>\n",
       "      <th>Interest Income</th>\n",
       "      <th>...</th>\n",
       "      <th>Interest Expense Non Operating</th>\n",
       "      <th>Interest Income Non Operating</th>\n",
       "      <th>Operating Income</th>\n",
       "      <th>Operating Expense</th>\n",
       "      <th>Research And Development</th>\n",
       "      <th>Selling General And Administration</th>\n",
       "      <th>Gross Profit</th>\n",
       "      <th>Cost Of Revenue</th>\n",
       "      <th>Total Revenue</th>\n",
       "      <th>Operating Revenue</th>\n",
       "    </tr>\n",
       "  </thead>\n",
       "  <tbody>\n",
       "    <tr>\n",
       "      <th>2022-09-30</th>\n",
       "      <td>0.0</td>\n",
       "      <td>0.162045</td>\n",
       "      <td>130541000000.0</td>\n",
       "      <td>99803000000.0</td>\n",
       "      <td>11104000000.0</td>\n",
       "      <td>223546000000.0</td>\n",
       "      <td>119437000000.0</td>\n",
       "      <td>-106000000.0</td>\n",
       "      <td>2931000000.0</td>\n",
       "      <td>2825000000.0</td>\n",
       "      <td>...</td>\n",
       "      <td>2931000000.0</td>\n",
       "      <td>2825000000.0</td>\n",
       "      <td>119437000000.0</td>\n",
       "      <td>51345000000.0</td>\n",
       "      <td>26251000000.0</td>\n",
       "      <td>25094000000.0</td>\n",
       "      <td>170782000000.0</td>\n",
       "      <td>223546000000.0</td>\n",
       "      <td>394328000000.0</td>\n",
       "      <td>394328000000.0</td>\n",
       "    </tr>\n",
       "    <tr>\n",
       "      <th>2021-09-30</th>\n",
       "      <td>0.0</td>\n",
       "      <td>0.133023</td>\n",
       "      <td>120233000000.0</td>\n",
       "      <td>94680000000.0</td>\n",
       "      <td>11284000000.0</td>\n",
       "      <td>212981000000.0</td>\n",
       "      <td>108949000000.0</td>\n",
       "      <td>198000000.0</td>\n",
       "      <td>2645000000.0</td>\n",
       "      <td>2843000000.0</td>\n",
       "      <td>...</td>\n",
       "      <td>2645000000.0</td>\n",
       "      <td>2843000000.0</td>\n",
       "      <td>108949000000.0</td>\n",
       "      <td>43887000000.0</td>\n",
       "      <td>21914000000.0</td>\n",
       "      <td>21973000000.0</td>\n",
       "      <td>152836000000.0</td>\n",
       "      <td>212981000000.0</td>\n",
       "      <td>365817000000.0</td>\n",
       "      <td>365817000000.0</td>\n",
       "    </tr>\n",
       "    <tr>\n",
       "      <th>2020-09-30</th>\n",
       "      <td>0.0</td>\n",
       "      <td>0.144282</td>\n",
       "      <td>77344000000.0</td>\n",
       "      <td>57411000000.0</td>\n",
       "      <td>11056000000.0</td>\n",
       "      <td>169559000000.0</td>\n",
       "      <td>66288000000.0</td>\n",
       "      <td>890000000.0</td>\n",
       "      <td>2873000000.0</td>\n",
       "      <td>3763000000.0</td>\n",
       "      <td>...</td>\n",
       "      <td>2873000000.0</td>\n",
       "      <td>3763000000.0</td>\n",
       "      <td>66288000000.0</td>\n",
       "      <td>38668000000.0</td>\n",
       "      <td>18752000000.0</td>\n",
       "      <td>19916000000.0</td>\n",
       "      <td>104956000000.0</td>\n",
       "      <td>169559000000.0</td>\n",
       "      <td>274515000000.0</td>\n",
       "      <td>274515000000.0</td>\n",
       "    </tr>\n",
       "    <tr>\n",
       "      <th>2019-09-30</th>\n",
       "      <td>0.0</td>\n",
       "      <td>0.159438</td>\n",
       "      <td>76477000000.0</td>\n",
       "      <td>55256000000.0</td>\n",
       "      <td>12547000000.0</td>\n",
       "      <td>161782000000.0</td>\n",
       "      <td>63930000000.0</td>\n",
       "      <td>1385000000.0</td>\n",
       "      <td>3576000000.0</td>\n",
       "      <td>4961000000.0</td>\n",
       "      <td>...</td>\n",
       "      <td>3576000000.0</td>\n",
       "      <td>4961000000.0</td>\n",
       "      <td>63930000000.0</td>\n",
       "      <td>34462000000.0</td>\n",
       "      <td>16217000000.0</td>\n",
       "      <td>18245000000.0</td>\n",
       "      <td>98392000000.0</td>\n",
       "      <td>161782000000.0</td>\n",
       "      <td>260174000000.0</td>\n",
       "      <td>260174000000.0</td>\n",
       "    </tr>\n",
       "  </tbody>\n",
       "</table>\n",
       "<p>4 rows × 38 columns</p>\n",
       "</div>"
      ],
      "text/plain": [
       "           Tax Effect Of Unusual Items Tax Rate For Calcs Normalized EBITDA  \\\n",
       "2022-09-30                         0.0           0.162045    130541000000.0   \n",
       "2021-09-30                         0.0           0.133023    120233000000.0   \n",
       "2020-09-30                         0.0           0.144282     77344000000.0   \n",
       "2019-09-30                         0.0           0.159438     76477000000.0   \n",
       "\n",
       "           Net Income From Continuing Operation Net Minority Interest  \\\n",
       "2022-09-30                                      99803000000.0           \n",
       "2021-09-30                                      94680000000.0           \n",
       "2020-09-30                                      57411000000.0           \n",
       "2019-09-30                                      55256000000.0           \n",
       "\n",
       "           Reconciled Depreciation Reconciled Cost Of Revenue            EBIT  \\\n",
       "2022-09-30           11104000000.0             223546000000.0  119437000000.0   \n",
       "2021-09-30           11284000000.0             212981000000.0  108949000000.0   \n",
       "2020-09-30           11056000000.0             169559000000.0   66288000000.0   \n",
       "2019-09-30           12547000000.0             161782000000.0   63930000000.0   \n",
       "\n",
       "           Net Interest Income Interest Expense Interest Income  ...  \\\n",
       "2022-09-30        -106000000.0     2931000000.0    2825000000.0  ...   \n",
       "2021-09-30         198000000.0     2645000000.0    2843000000.0  ...   \n",
       "2020-09-30         890000000.0     2873000000.0    3763000000.0  ...   \n",
       "2019-09-30        1385000000.0     3576000000.0    4961000000.0  ...   \n",
       "\n",
       "           Interest Expense Non Operating Interest Income Non Operating  \\\n",
       "2022-09-30                   2931000000.0                  2825000000.0   \n",
       "2021-09-30                   2645000000.0                  2843000000.0   \n",
       "2020-09-30                   2873000000.0                  3763000000.0   \n",
       "2019-09-30                   3576000000.0                  4961000000.0   \n",
       "\n",
       "           Operating Income Operating Expense Research And Development  \\\n",
       "2022-09-30   119437000000.0     51345000000.0            26251000000.0   \n",
       "2021-09-30   108949000000.0     43887000000.0            21914000000.0   \n",
       "2020-09-30    66288000000.0     38668000000.0            18752000000.0   \n",
       "2019-09-30    63930000000.0     34462000000.0            16217000000.0   \n",
       "\n",
       "           Selling General And Administration    Gross Profit Cost Of Revenue  \\\n",
       "2022-09-30                      25094000000.0  170782000000.0  223546000000.0   \n",
       "2021-09-30                      21973000000.0  152836000000.0  212981000000.0   \n",
       "2020-09-30                      19916000000.0  104956000000.0  169559000000.0   \n",
       "2019-09-30                      18245000000.0   98392000000.0  161782000000.0   \n",
       "\n",
       "             Total Revenue Operating Revenue  \n",
       "2022-09-30  394328000000.0    394328000000.0  \n",
       "2021-09-30  365817000000.0    365817000000.0  \n",
       "2020-09-30  274515000000.0    274515000000.0  \n",
       "2019-09-30  260174000000.0    260174000000.0  \n",
       "\n",
       "[4 rows x 38 columns]"
      ]
     },
     "execution_count": 20,
     "metadata": {},
     "output_type": "execute_result"
    }
   ],
   "source": [
    "ticker.financials.T"
   ]
  }
 ],
 "metadata": {
  "kernelspec": {
   "display_name": "development",
   "language": "python",
   "name": "python3"
  },
  "language_info": {
   "codemirror_mode": {
    "name": "ipython",
    "version": 3
   },
   "file_extension": ".py",
   "mimetype": "text/x-python",
   "name": "python",
   "nbconvert_exporter": "python",
   "pygments_lexer": "ipython3",
   "version": "3.11.4"
  },
  "orig_nbformat": 4,
  "vscode": {
   "interpreter": {
    "hash": "763c4e96939bbab123f692147773a700bc8d10e645a4b82373957dfdf5212841"
   }
  }
 },
 "nbformat": 4,
 "nbformat_minor": 2
}
