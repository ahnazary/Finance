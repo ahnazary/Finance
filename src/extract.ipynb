{
 "cells": [
  {
   "cell_type": "code",
   "execution_count": 1,
   "metadata": {},
   "outputs": [],
   "source": [
    "import yahooquery\n",
    "import pandas as pd"
   ]
  },
  {
   "cell_type": "code",
   "execution_count": 2,
   "metadata": {},
   "outputs": [
    {
     "data": {
      "text/plain": [
       "Index(['asOfDate', 'periodType', 'currencyCode', 'AccountsPayable',\n",
       "       'AccountsReceivable', 'AccumulatedDepreciation',\n",
       "       'AvailableForSaleSecurities', 'CapitalStock', 'CashAndCashEquivalents',\n",
       "       'CashCashEquivalentsAndShortTermInvestments', 'CashEquivalents',\n",
       "       'CashFinancial', 'CommercialPaper', 'CommonStock', 'CommonStockEquity',\n",
       "       'CurrentAssets', 'CurrentDebt', 'CurrentDebtAndCapitalLeaseObligation',\n",
       "       'CurrentDeferredLiabilities', 'CurrentDeferredRevenue',\n",
       "       'CurrentLiabilities', 'FinishedGoods',\n",
       "       'GainsLossesNotAffectingRetainedEarnings', 'GrossPPE', 'Inventory',\n",
       "       'InvestedCapital', 'InvestmentinFinancialAssets',\n",
       "       'InvestmentsAndAdvances', 'LandAndImprovements', 'Leases',\n",
       "       'LongTermDebt', 'LongTermDebtAndCapitalLeaseObligation',\n",
       "       'MachineryFurnitureEquipment', 'NetDebt', 'NetPPE', 'NetTangibleAssets',\n",
       "       'OrdinarySharesNumber', 'OtherCurrentAssets', 'OtherCurrentBorrowings',\n",
       "       'OtherCurrentLiabilities', 'OtherEquityAdjustments', 'OtherInvestments',\n",
       "       'OtherNonCurrentAssets', 'OtherNonCurrentLiabilities',\n",
       "       'OtherReceivables', 'OtherShortTermInvestments', 'Payables',\n",
       "       'PayablesAndAccruedExpenses', 'Properties', 'RawMaterials',\n",
       "       'Receivables', 'RetainedEarnings', 'ShareIssued', 'StockholdersEquity',\n",
       "       'TangibleBookValue', 'TotalAssets', 'TotalCapitalization', 'TotalDebt',\n",
       "       'TotalEquityGrossMinorityInterest',\n",
       "       'TotalLiabilitiesNetMinorityInterest', 'TotalNonCurrentAssets',\n",
       "       'TotalNonCurrentLiabilitiesNetMinorityInterest',\n",
       "       'TradeandOtherPayablesNonCurrent', 'WorkingCapital'],\n",
       "      dtype='object')"
      ]
     },
     "execution_count": 2,
     "metadata": {},
     "output_type": "execute_result"
    }
   ],
   "source": [
    "# print quarterly balance sheet of Apple\n",
    "ticker = yahooquery.Ticker('AAPL')\n",
    "balance_sheet = ticker.balance_sheet(frequency='quarterly')\n",
    "balance_sheet.columns"
   ]
  },
  {
   "cell_type": "code",
   "execution_count": 3,
   "metadata": {},
   "outputs": [
    {
     "data": {
      "text/plain": [
       "Index(['asOfDate', 'periodType', 'currencyCode', 'BeginningCashPosition',\n",
       "       'CapitalExpenditure', 'CashDividendsPaid',\n",
       "       'CashFlowFromContinuingFinancingActivities',\n",
       "       'CashFlowFromContinuingInvestingActivities',\n",
       "       'CashFlowFromContinuingOperatingActivities', 'ChangeInAccountPayable',\n",
       "       'ChangeInCashSupplementalAsReported', 'ChangeInInventory',\n",
       "       'ChangeInOtherCurrentAssets', 'ChangeInOtherCurrentLiabilities',\n",
       "       'ChangeInOtherWorkingCapital', 'ChangeInPayable',\n",
       "       'ChangeInPayablesAndAccruedExpense', 'ChangeInReceivables',\n",
       "       'ChangeInWorkingCapital', 'ChangesInAccountReceivables',\n",
       "       'ChangesInCash', 'CommonStockDividendPaid', 'CommonStockIssuance',\n",
       "       'CommonStockPayments', 'DeferredIncomeTax', 'DeferredTax',\n",
       "       'DepreciationAmortizationDepletion', 'DepreciationAndAmortization',\n",
       "       'EndCashPosition', 'FinancingCashFlow', 'FreeCashFlow',\n",
       "       'IncomeTaxPaidSupplementalData', 'InterestPaidSupplementalData',\n",
       "       'InvestingCashFlow', 'IssuanceOfCapitalStock', 'IssuanceOfDebt',\n",
       "       'LongTermDebtIssuance', 'LongTermDebtPayments',\n",
       "       'NetBusinessPurchaseAndSale', 'NetCommonStockIssuance', 'NetIncome',\n",
       "       'NetIncomeFromContinuingOperations', 'NetInvestmentPurchaseAndSale',\n",
       "       'NetIssuancePaymentsOfDebt', 'NetLongTermDebtIssuance',\n",
       "       'NetOtherFinancingCharges', 'NetOtherInvestingChanges',\n",
       "       'NetPPEPurchaseAndSale', 'NetShortTermDebtIssuance',\n",
       "       'OperatingCashFlow', 'OtherNonCashItems', 'PurchaseOfBusiness',\n",
       "       'PurchaseOfInvestment', 'PurchaseOfPPE', 'RepaymentOfDebt',\n",
       "       'RepurchaseOfCapitalStock', 'SaleOfInvestment', 'ShortTermDebtIssuance',\n",
       "       'ShortTermDebtPayments', 'StockBasedCompensation'],\n",
       "      dtype='object')"
      ]
     },
     "execution_count": 3,
     "metadata": {},
     "output_type": "execute_result"
    }
   ],
   "source": [
    "cash_flow = ticker.cash_flow()\n",
    "cash_flow.columns"
   ]
  },
  {
   "cell_type": "code",
   "execution_count": 4,
   "metadata": {},
   "outputs": [
    {
     "data": {
      "text/html": [
       "<div>\n",
       "<style scoped>\n",
       "    .dataframe tbody tr th:only-of-type {\n",
       "        vertical-align: middle;\n",
       "    }\n",
       "\n",
       "    .dataframe tbody tr th {\n",
       "        vertical-align: top;\n",
       "    }\n",
       "\n",
       "    .dataframe thead th {\n",
       "        text-align: right;\n",
       "    }\n",
       "</style>\n",
       "<table border=\"1\" class=\"dataframe\">\n",
       "  <thead>\n",
       "    <tr style=\"text-align: right;\">\n",
       "      <th></th>\n",
       "      <th>asOfDate</th>\n",
       "      <th>periodType</th>\n",
       "      <th>currencyCode</th>\n",
       "      <th>BeginningCashPosition</th>\n",
       "      <th>FreeCashFlow</th>\n",
       "      <th>FreeCashFlow</th>\n",
       "      <th>NetIncome</th>\n",
       "    </tr>\n",
       "    <tr>\n",
       "      <th>symbol</th>\n",
       "      <th></th>\n",
       "      <th></th>\n",
       "      <th></th>\n",
       "      <th></th>\n",
       "      <th></th>\n",
       "      <th></th>\n",
       "      <th></th>\n",
       "    </tr>\n",
       "  </thead>\n",
       "  <tbody>\n",
       "    <tr>\n",
       "      <th>AAPL</th>\n",
       "      <td>2019-09-30</td>\n",
       "      <td>12M</td>\n",
       "      <td>USD</td>\n",
       "      <td>2.591300e+10</td>\n",
       "      <td>5.889600e+10</td>\n",
       "      <td>5.889600e+10</td>\n",
       "      <td>5.525600e+10</td>\n",
       "    </tr>\n",
       "    <tr>\n",
       "      <th>AAPL</th>\n",
       "      <td>2020-09-30</td>\n",
       "      <td>12M</td>\n",
       "      <td>USD</td>\n",
       "      <td>5.022400e+10</td>\n",
       "      <td>7.336500e+10</td>\n",
       "      <td>7.336500e+10</td>\n",
       "      <td>5.741100e+10</td>\n",
       "    </tr>\n",
       "    <tr>\n",
       "      <th>AAPL</th>\n",
       "      <td>2021-09-30</td>\n",
       "      <td>12M</td>\n",
       "      <td>USD</td>\n",
       "      <td>3.978900e+10</td>\n",
       "      <td>9.295300e+10</td>\n",
       "      <td>9.295300e+10</td>\n",
       "      <td>9.468000e+10</td>\n",
       "    </tr>\n",
       "    <tr>\n",
       "      <th>AAPL</th>\n",
       "      <td>2022-09-30</td>\n",
       "      <td>12M</td>\n",
       "      <td>USD</td>\n",
       "      <td>3.592900e+10</td>\n",
       "      <td>1.114430e+11</td>\n",
       "      <td>1.114430e+11</td>\n",
       "      <td>9.980300e+10</td>\n",
       "    </tr>\n",
       "    <tr>\n",
       "      <th>AAPL</th>\n",
       "      <td>2022-12-31</td>\n",
       "      <td>TTM</td>\n",
       "      <td>USD</td>\n",
       "      <td>3.863000e+10</td>\n",
       "      <td>9.749800e+10</td>\n",
       "      <td>9.749800e+10</td>\n",
       "      <td>9.517100e+10</td>\n",
       "    </tr>\n",
       "    <tr>\n",
       "      <th>AAPL</th>\n",
       "      <td>2023-03-31</td>\n",
       "      <td>TTM</td>\n",
       "      <td>USD</td>\n",
       "      <td>2.918000e+10</td>\n",
       "      <td>9.749000e+10</td>\n",
       "      <td>9.749000e+10</td>\n",
       "      <td>9.432100e+10</td>\n",
       "    </tr>\n",
       "  </tbody>\n",
       "</table>\n",
       "</div>"
      ],
      "text/plain": [
       "         asOfDate periodType currencyCode  BeginningCashPosition  \\\n",
       "symbol                                                             \n",
       "AAPL   2019-09-30        12M          USD           2.591300e+10   \n",
       "AAPL   2020-09-30        12M          USD           5.022400e+10   \n",
       "AAPL   2021-09-30        12M          USD           3.978900e+10   \n",
       "AAPL   2022-09-30        12M          USD           3.592900e+10   \n",
       "AAPL   2022-12-31        TTM          USD           3.863000e+10   \n",
       "AAPL   2023-03-31        TTM          USD           2.918000e+10   \n",
       "\n",
       "        FreeCashFlow  FreeCashFlow     NetIncome  \n",
       "symbol                                            \n",
       "AAPL    5.889600e+10  5.889600e+10  5.525600e+10  \n",
       "AAPL    7.336500e+10  7.336500e+10  5.741100e+10  \n",
       "AAPL    9.295300e+10  9.295300e+10  9.468000e+10  \n",
       "AAPL    1.114430e+11  1.114430e+11  9.980300e+10  \n",
       "AAPL    9.749800e+10  9.749800e+10  9.517100e+10  \n",
       "AAPL    9.749000e+10  9.749000e+10  9.432100e+10  "
      ]
     },
     "execution_count": 4,
     "metadata": {},
     "output_type": "execute_result"
    }
   ],
   "source": [
    "cash_flow[[\"asOfDate\", \"periodType\",\"currencyCode\", \"BeginningCashPosition\", \"FreeCashFlow\", \"FreeCashFlow\", \"NetIncome\"]]"
   ]
  },
  {
   "cell_type": "code",
   "execution_count": null,
   "metadata": {},
   "outputs": [],
   "source": []
  },
  {
   "cell_type": "code",
   "execution_count": 5,
   "metadata": {},
   "outputs": [
    {
     "data": {
      "text/plain": [
       "Index(['asOfDate', 'periodType', 'currencyCode', 'BasicAverageShares',\n",
       "       'BasicEPS', 'CostOfRevenue', 'DilutedAverageShares', 'DilutedEPS',\n",
       "       'DilutedNIAvailtoComStockholders', 'EBIT', 'EBITDA', 'GrossProfit',\n",
       "       'InterestExpense', 'InterestExpenseNonOperating', 'InterestIncome',\n",
       "       'InterestIncomeNonOperating', 'NetIncome',\n",
       "       'NetIncomeCommonStockholders', 'NetIncomeContinuousOperations',\n",
       "       'NetIncomeFromContinuingAndDiscontinuedOperation',\n",
       "       'NetIncomeFromContinuingOperationNetMinorityInterest',\n",
       "       'NetIncomeIncludingNoncontrollingInterests', 'NetInterestIncome',\n",
       "       'NetNonOperatingInterestIncomeExpense', 'NormalizedEBITDA',\n",
       "       'NormalizedIncome', 'OperatingExpense', 'OperatingIncome',\n",
       "       'OperatingRevenue', 'OtherIncomeExpense',\n",
       "       'OtherNonOperatingIncomeExpenses', 'PretaxIncome',\n",
       "       'ReconciledCostOfRevenue', 'ReconciledDepreciation',\n",
       "       'ResearchAndDevelopment', 'SellingGeneralAndAdministration',\n",
       "       'TaxEffectOfUnusualItems', 'TaxProvision', 'TaxRateForCalcs',\n",
       "       'TotalExpenses', 'TotalOperatingIncomeAsReported', 'TotalRevenue'],\n",
       "      dtype='object')"
      ]
     },
     "execution_count": 5,
     "metadata": {},
     "output_type": "execute_result"
    }
   ],
   "source": [
    "income_statement = ticker.income_statement()\n",
    "income_statement.columns\n"
   ]
  },
  {
   "cell_type": "code",
   "execution_count": 6,
   "metadata": {},
   "outputs": [],
   "source": [
    "balance_sheet = ticker.balance_sheet(frequency='quarterly')"
   ]
  },
  {
   "cell_type": "code",
   "execution_count": 7,
   "metadata": {},
   "outputs": [
    {
     "name": "stdout",
     "output_type": "stream",
     "text": [
      "The market cap of AAPL is: 2999305895936\n"
     ]
    }
   ],
   "source": [
    "import yfinance as yf\n",
    "\n",
    "def get_market_cap(ticker_symbol):\n",
    "    ticker = yf.Ticker(ticker_symbol)\n",
    "    return ticker.info['marketCap']\n",
    "\n",
    "# Use the function\n",
    "market_cap = get_market_cap('AAPL')\n",
    "print(f'The market cap of AAPL is: {market_cap}')"
   ]
  },
  {
   "cell_type": "code",
   "execution_count": 18,
   "metadata": {},
   "outputs": [
    {
     "data": {
      "text/plain": [
       "Index(['Tax Effect Of Unusual Items', 'Tax Rate For Calcs',\n",
       "       'Normalized EBITDA',\n",
       "       'Net Income From Continuing Operation Net Minority Interest',\n",
       "       'Reconciled Depreciation', 'Reconciled Cost Of Revenue', 'EBIT',\n",
       "       'Net Interest Income', 'Interest Expense', 'Interest Income',\n",
       "       'Normalized Income',\n",
       "       'Net Income From Continuing And Discontinued Operation',\n",
       "       'Total Expenses', 'Total Operating Income As Reported',\n",
       "       'Diluted Average Shares', 'Basic Average Shares', 'Diluted EPS',\n",
       "       'Basic EPS', 'Diluted NI Availto Com Stockholders',\n",
       "       'Net Income Common Stockholders', 'Net Income',\n",
       "       'Net Income Including Noncontrolling Interests',\n",
       "       'Net Income Continuous Operations', 'Tax Provision', 'Pretax Income',\n",
       "       'Other Income Expense', 'Other Non Operating Income Expenses',\n",
       "       'Net Non Operating Interest Income Expense',\n",
       "       'Interest Expense Non Operating', 'Interest Income Non Operating',\n",
       "       'Operating Income', 'Operating Expense', 'Research And Development',\n",
       "       'Selling General And Administration', 'Gross Profit', 'Cost Of Revenue',\n",
       "       'Total Revenue', 'Operating Revenue'],\n",
       "      dtype='object')"
      ]
     },
     "execution_count": 18,
     "metadata": {},
     "output_type": "execute_result"
    }
   ],
   "source": [
    "import yfinance as yf\n",
    "\n",
    "ticker_symbol = 'AAPL'\n",
    "ticker = yf.Ticker(ticker_symbol)\n",
    "\n",
    "# get income statement \n",
    "income_statement = ticker.financials\n",
    "income_statement.index\n"
   ]
  },
  {
   "cell_type": "code",
   "execution_count": 20,
   "metadata": {},
   "outputs": [
    {
     "data": {
      "text/plain": [
       "2999305895936"
      ]
     },
     "execution_count": 20,
     "metadata": {},
     "output_type": "execute_result"
    }
   ],
   "source": [
    "ticker.info['marketCap']"
   ]
  },
  {
   "cell_type": "code",
   "execution_count": 21,
   "metadata": {},
   "outputs": [
    {
     "data": {
      "text/plain": [
       "'USD'"
      ]
     },
     "execution_count": 21,
     "metadata": {},
     "output_type": "execute_result"
    }
   ],
   "source": [
    "ticker.info['currency']"
   ]
  },
  {
   "cell_type": "code",
   "execution_count": 24,
   "metadata": {},
   "outputs": [
    {
     "data": {
      "text/plain": [
       "394328000000.0"
      ]
     },
     "execution_count": 24,
     "metadata": {},
     "output_type": "execute_result"
    }
   ],
   "source": [
    "income_statement.loc['Total Revenue'].values[0]"
   ]
  },
  {
   "cell_type": "code",
   "execution_count": 30,
   "metadata": {},
   "outputs": [
    {
     "data": {
      "text/plain": [
       "111443000000.0"
      ]
     },
     "execution_count": 30,
     "metadata": {},
     "output_type": "execute_result"
    }
   ],
   "source": [
    "ticker.cashflow.loc[\"Free Cash Flow\"].values[0]"
   ]
  },
  {
   "cell_type": "code",
   "execution_count": 31,
   "metadata": {},
   "outputs": [
    {
     "data": {
      "text/plain": [
       "352755000000.0"
      ]
     },
     "execution_count": 31,
     "metadata": {},
     "output_type": "execute_result"
    }
   ],
   "source": [
    "ticker.balance_sheet.loc['Total Assets'].values[0]"
   ]
  }
 ],
 "metadata": {
  "kernelspec": {
   "display_name": "development",
   "language": "python",
   "name": "python3"
  },
  "language_info": {
   "codemirror_mode": {
    "name": "ipython",
    "version": 3
   },
   "file_extension": ".py",
   "mimetype": "text/x-python",
   "name": "python",
   "nbconvert_exporter": "python",
   "pygments_lexer": "ipython3",
   "version": "3.11.4"
  },
  "orig_nbformat": 4,
  "vscode": {
   "interpreter": {
    "hash": "763c4e96939bbab123f692147773a700bc8d10e645a4b82373957dfdf5212841"
   }
  }
 },
 "nbformat": 4,
 "nbformat_minor": 2
}
