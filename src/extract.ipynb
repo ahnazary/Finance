{
 "cells": [
  {
   "cell_type": "code",
   "execution_count": 7,
   "metadata": {},
   "outputs": [
    {
     "name": "stdout",
     "output_type": "stream",
     "text": [
      "The market cap of AAPL is: 2999305895936\n"
     ]
    }
   ],
   "source": [
    "import yfinance as yf\n",
    "\n",
    "def get_market_cap(ticker_symbol):\n",
    "    ticker = yf.Ticker(ticker_symbol)\n",
    "    return ticker.info['marketCap']\n",
    "\n",
    "# Use the function\n",
    "market_cap = get_market_cap('AAPL')\n",
    "print(f'The market cap of AAPL is: {market_cap}')"
   ]
  },
  {
   "cell_type": "code",
   "execution_count": 18,
   "metadata": {},
   "outputs": [
    {
     "data": {
      "text/plain": [
       "Index(['Tax Effect Of Unusual Items', 'Tax Rate For Calcs',\n",
       "       'Normalized EBITDA',\n",
       "       'Net Income From Continuing Operation Net Minority Interest',\n",
       "       'Reconciled Depreciation', 'Reconciled Cost Of Revenue', 'EBIT',\n",
       "       'Net Interest Income', 'Interest Expense', 'Interest Income',\n",
       "       'Normalized Income',\n",
       "       'Net Income From Continuing And Discontinued Operation',\n",
       "       'Total Expenses', 'Total Operating Income As Reported',\n",
       "       'Diluted Average Shares', 'Basic Average Shares', 'Diluted EPS',\n",
       "       'Basic EPS', 'Diluted NI Availto Com Stockholders',\n",
       "       'Net Income Common Stockholders', 'Net Income',\n",
       "       'Net Income Including Noncontrolling Interests',\n",
       "       'Net Income Continuous Operations', 'Tax Provision', 'Pretax Income',\n",
       "       'Other Income Expense', 'Other Non Operating Income Expenses',\n",
       "       'Net Non Operating Interest Income Expense',\n",
       "       'Interest Expense Non Operating', 'Interest Income Non Operating',\n",
       "       'Operating Income', 'Operating Expense', 'Research And Development',\n",
       "       'Selling General And Administration', 'Gross Profit', 'Cost Of Revenue',\n",
       "       'Total Revenue', 'Operating Revenue'],\n",
       "      dtype='object')"
      ]
     },
     "execution_count": 18,
     "metadata": {},
     "output_type": "execute_result"
    }
   ],
   "source": [
    "import yfinance as yf\n",
    "\n",
    "ticker_symbol = 'AAPL'\n",
    "ticker = yf.Ticker(ticker_symbol)\n",
    "\n",
    "# get income statement \n",
    "income_statement = ticker.financials\n",
    "income_statement.index\n"
   ]
  },
  {
   "cell_type": "code",
   "execution_count": 20,
   "metadata": {},
   "outputs": [
    {
     "data": {
      "text/plain": [
       "2999305895936"
      ]
     },
     "execution_count": 20,
     "metadata": {},
     "output_type": "execute_result"
    }
   ],
   "source": [
    "ticker.info['marketCap']"
   ]
  },
  {
   "cell_type": "code",
   "execution_count": 21,
   "metadata": {},
   "outputs": [
    {
     "data": {
      "text/plain": [
       "'USD'"
      ]
     },
     "execution_count": 21,
     "metadata": {},
     "output_type": "execute_result"
    }
   ],
   "source": [
    "ticker.info['currency']"
   ]
  },
  {
   "cell_type": "code",
   "execution_count": 24,
   "metadata": {},
   "outputs": [
    {
     "data": {
      "text/plain": [
       "394328000000.0"
      ]
     },
     "execution_count": 24,
     "metadata": {},
     "output_type": "execute_result"
    }
   ],
   "source": [
    "income_statement.loc['Total Revenue'].values[0]"
   ]
  },
  {
   "cell_type": "code",
   "execution_count": 30,
   "metadata": {},
   "outputs": [
    {
     "data": {
      "text/plain": [
       "111443000000.0"
      ]
     },
     "execution_count": 30,
     "metadata": {},
     "output_type": "execute_result"
    }
   ],
   "source": [
    "ticker.cashflow.loc[\"Free Cash Flow\"].values[0]"
   ]
  },
  {
   "cell_type": "code",
   "execution_count": 31,
   "metadata": {},
   "outputs": [
    {
     "data": {
      "text/plain": [
       "352755000000.0"
      ]
     },
     "execution_count": 31,
     "metadata": {},
     "output_type": "execute_result"
    }
   ],
   "source": [
    "ticker.balance_sheet.loc['Total Assets'].values[0]"
   ]
  },
  {
   "cell_type": "code",
   "execution_count": 34,
   "metadata": {},
   "outputs": [
    {
     "data": {
      "text/plain": [
       "Index(['Ordinary Shares Number', 'Share Issued', 'Net Debt', 'Total Debt',\n",
       "       'Tangible Book Value', 'Invested Capital', 'Working Capital',\n",
       "       'Net Tangible Assets', 'Common Stock Equity', 'Total Capitalization',\n",
       "       'Total Equity Gross Minority Interest', 'Stockholders Equity',\n",
       "       'Gains Losses Not Affecting Retained Earnings', 'Retained Earnings',\n",
       "       'Capital Stock', 'Common Stock',\n",
       "       'Total Liabilities Net Minority Interest',\n",
       "       'Total Non Current Liabilities Net Minority Interest',\n",
       "       'Other Non Current Liabilities', 'Tradeand Other Payables Non Current',\n",
       "       'Long Term Debt And Capital Lease Obligation', 'Long Term Debt',\n",
       "       'Current Liabilities', 'Other Current Liabilities',\n",
       "       'Current Deferred Liabilities', 'Current Deferred Revenue',\n",
       "       'Current Debt And Capital Lease Obligation', 'Current Debt',\n",
       "       'Other Current Borrowings', 'Commercial Paper',\n",
       "       'Payables And Accrued Expenses', 'Payables', 'Accounts Payable',\n",
       "       'Total Assets', 'Total Non Current Assets', 'Other Non Current Assets',\n",
       "       'Investments And Advances', 'Other Investments',\n",
       "       'Investmentin Financial Assets', 'Available For Sale Securities',\n",
       "       'Net PPE', 'Accumulated Depreciation', 'Gross PPE', 'Leases',\n",
       "       'Machinery Furniture Equipment', 'Land And Improvements', 'Properties',\n",
       "       'Current Assets', 'Other Current Assets', 'Inventory', 'Receivables',\n",
       "       'Other Receivables', 'Accounts Receivable',\n",
       "       'Cash Cash Equivalents And Short Term Investments',\n",
       "       'Other Short Term Investments', 'Cash And Cash Equivalents',\n",
       "       'Cash Equivalents', 'Cash Financial'],\n",
       "      dtype='object')"
      ]
     },
     "execution_count": 34,
     "metadata": {},
     "output_type": "execute_result"
    }
   ],
   "source": [
    "ticker.balance_sheet.index"
   ]
  }
 ],
 "metadata": {
  "kernelspec": {
   "display_name": "development",
   "language": "python",
   "name": "python3"
  },
  "language_info": {
   "codemirror_mode": {
    "name": "ipython",
    "version": 3
   },
   "file_extension": ".py",
   "mimetype": "text/x-python",
   "name": "python",
   "nbconvert_exporter": "python",
   "pygments_lexer": "ipython3",
   "version": "3.11.4"
  },
  "orig_nbformat": 4,
  "vscode": {
   "interpreter": {
    "hash": "763c4e96939bbab123f692147773a700bc8d10e645a4b82373957dfdf5212841"
   }
  }
 },
 "nbformat": 4,
 "nbformat_minor": 2
}
